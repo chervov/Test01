{
  "nbformat": 4,
  "nbformat_minor": 0,
  "metadata": {
    "colab": {
      "name": "bench_automl_v01_0010.ipynb",
      "version": "0.3.2",
      "provenance": [],
      "include_colab_link": true
    },
    "kernelspec": {
      "name": "python3",
      "display_name": "Python 3"
    }
  },
  "cells": [
    {
      "cell_type": "markdown",
      "metadata": {
        "id": "view-in-github",
        "colab_type": "text"
      },
      "source": [
        "<a href=\"https://colab.research.google.com/github/chervov/Test01/blob/master/bench_automl_v01_0010.ipynb\" target=\"_parent\"><img src=\"https://colab.research.google.com/assets/colab-badge.svg\" alt=\"Open In Colab\"/></a>"
      ]
    },
    {
      "cell_type": "code",
      "metadata": {
        "id": "kI7nHMgHhVmA",
        "colab_type": "code",
        "colab": {}
      },
      "source": [
        "import pandas as pd\n",
        "import numpy as np\n",
        "import matplotlib.pyplot as plt\n",
        "import time\n",
        "import os \n",
        "\n",
        "# classifiers: \n",
        "from sklearn.linear_model import LogisticRegression, LogisticRegressionCV\n",
        "from sklearn.ensemble import  RandomForestClassifier\n",
        "import lightgbm as lgb\n",
        "import xgboost as xgb\n",
        "from sklearn.discriminant_analysis import QuadraticDiscriminantAnalysis\n",
        "\n",
        "# datatsets: \n",
        "import sklearn.datasets\n",
        "\n",
        "# auxilliary: metrics etc. \n",
        "from sklearn.metrics import roc_auc_score\n",
        "from sklearn.model_selection import cross_val_score,train_test_split\n",
        "\n"
      ],
      "execution_count": 0,
      "outputs": []
    },
    {
      "cell_type": "code",
      "metadata": {
        "id": "XzY9WDjLhfLe",
        "colab_type": "code",
        "colab": {}
      },
      "source": [
        "def get_dataset(dataset_id  ):\n",
        "  '''\n",
        "  Returns X, y - feature dataframe, and y - target, \n",
        "  \n",
        "  Input:\n",
        "  dataset_id - identificator of dataset \n",
        "  \n",
        "  '''\n",
        "  if dataset_id == 'Randn 1000 10 p001':\n",
        "    X = pd.DataFrame( np.random.randn(1000,10) )\n",
        "    y = (np.random.rand(1000) <= 0.01 ).astype(float)\n",
        "    return X,y\n",
        "  if dataset_id == 'Make Classification 10000 40 20':\n",
        "    X, y = sklearn.datasets.make_classification(n_samples=10000, n_features=40, n_informative=20, n_redundant=0, n_repeated=0, n_classes=2, n_clusters_per_class=2, weights=None, flip_y=0.01, class_sep=1.0, hypercube=True, shift=0.0, scale=1.0, shuffle=True, random_state=0) \n",
        "    X = pd.DataFrame( X )\n",
        "    return X,y\n",
        "  \n",
        "  raise ValueError('Unknown dataset_id')\n",
        "  "
      ],
      "execution_count": 0,
      "outputs": []
    },
    {
      "cell_type": "code",
      "metadata": {
        "id": "7eor1VUMpiir",
        "colab_type": "code",
        "colab": {}
      },
      "source": [
        "def get_clf(clf_id  ):\n",
        "  '''\n",
        "  Returns classifier class  \n",
        "  Clf supports methods: .fit and .predict_proba\n",
        "  \n",
        "  Input:\n",
        "  clf_id - identificator of classifier  \n",
        "  '''\n",
        "  \n",
        "  if clf_id == 'lgb_1000':\n",
        "    clf = lgb.LGBMClassifier(n_estimators = 1000)\n",
        "    return clf \n",
        "    \n",
        "  raise ValueError('Unknown clf_id')\n",
        "  "
      ],
      "execution_count": 0,
      "outputs": []
    },
    {
      "cell_type": "code",
      "metadata": {
        "id": "FFdU9mXtiUCL",
        "colab_type": "code",
        "colab": {
          "base_uri": "https://localhost:8080/",
          "height": 546
        },
        "outputId": "78093488-0534-4264-d312-d69a47e1d519"
      },
      "source": [
        "start_time_0 = time.time()\n",
        "\n",
        "list_dataset_id = [ 'Randn 1000 10 p001', 'Make Classification 10000 40 20' ]\n",
        "\n",
        "\n",
        "list_clf_id = ['lgb_1000'] \n",
        "\n",
        "df_stat = pd.DataFrame() # Output statistics \n",
        "for dataset_id in list_dataset_id:\n",
        "  X, y =   get_dataset(dataset_id) \n",
        "  for clf_id in list_clf_id:\n",
        "    clf = get_clf(clf_id  )\n",
        "    df_stat_random_state = pd.DataFrame()\n",
        "    for random_state in range(10):\n",
        "      print(dataset_id, clf_id,  random_state, time.time() - start_time_0, 'Seconds passed ' )\n",
        "      X_train, X_test, y_train, y_test = train_test_split(X,y, stratify = y, random_state = random_state  )\n",
        "\n",
        "      start_time_1 = time.time()\n",
        "      \n",
        "      clf.fit(X_train,y_train)\n",
        "      p = clf.predict_proba(X_train)[:,1]\n",
        "      roc_auc_train = roc_auc_score(y_train,p)\n",
        "      \n",
        "      p = clf.predict_proba(X_test)[:,1]\n",
        "      roc_auc_test = roc_auc_score(y_test,p)\n",
        "\n",
        "      df_stat_random_state.loc[random_state, 'Time'] = time.time() - start_time_1\n",
        "\n",
        "      df_stat_random_state.loc[random_state, 'AUC Test'] = roc_auc_test\n",
        "      df_stat_random_state.loc[random_state, 'AUC Train'] = roc_auc_train\n",
        "      \n",
        "  df_stat.loc[clf_id, dataset_id +  ' AUC Test' ] = df_stat_random_state['AUC Test'].mean()\n",
        "  df_stat.loc[clf_id, dataset_id +  ' AUC Test std' ] = df_stat_random_state['AUC Test'].std()\n",
        "  df_stat.loc[clf_id, dataset_id +  ' AUC Train' ] = df_stat_random_state['AUC Train'].mean()\n",
        "  df_stat.loc[clf_id, dataset_id +  ' AUC Train std' ] = df_stat_random_state['AUC Train'].std()\n",
        "  df_stat.loc[clf_id, dataset_id +  ' Time' ] = df_stat_random_state['Time'].mean()\n",
        "  \n",
        "      \n",
        "print(time.time() - start_time_0, 'Seconds passed ')\n",
        "df_stat\n",
        "      \n",
        "  "
      ],
      "execution_count": 42,
      "outputs": [
        {
          "output_type": "stream",
          "text": [
            "Randn 1000 10 p001 lgb_1000 0 0.003739595413208008 Seconds passed \n",
            "Randn 1000 10 p001 lgb_1000 1 0.2688436508178711 Seconds passed \n",
            "Randn 1000 10 p001 lgb_1000 2 0.5263102054595947 Seconds passed \n",
            "Randn 1000 10 p001 lgb_1000 3 0.7810399532318115 Seconds passed \n",
            "Randn 1000 10 p001 lgb_1000 4 1.0343003273010254 Seconds passed \n",
            "Randn 1000 10 p001 lgb_1000 5 1.276581048965454 Seconds passed \n",
            "Randn 1000 10 p001 lgb_1000 6 1.4948639869689941 Seconds passed \n",
            "Randn 1000 10 p001 lgb_1000 7 1.7255213260650635 Seconds passed \n",
            "Randn 1000 10 p001 lgb_1000 8 1.9869258403778076 Seconds passed \n",
            "Randn 1000 10 p001 lgb_1000 9 2.247584342956543 Seconds passed \n",
            "Make Classification 10000 40 20 lgb_1000 0 2.5405325889587402 Seconds passed \n",
            "Make Classification 10000 40 20 lgb_1000 1 11.829620599746704 Seconds passed \n",
            "Make Classification 10000 40 20 lgb_1000 2 21.152600049972534 Seconds passed \n",
            "Make Classification 10000 40 20 lgb_1000 3 30.39512324333191 Seconds passed \n",
            "Make Classification 10000 40 20 lgb_1000 4 39.64235186576843 Seconds passed \n",
            "Make Classification 10000 40 20 lgb_1000 5 48.88900589942932 Seconds passed \n",
            "Make Classification 10000 40 20 lgb_1000 6 58.23075890541077 Seconds passed \n",
            "Make Classification 10000 40 20 lgb_1000 7 67.4462661743164 Seconds passed \n",
            "Make Classification 10000 40 20 lgb_1000 8 76.67407870292664 Seconds passed \n",
            "Make Classification 10000 40 20 lgb_1000 9 85.92731308937073 Seconds passed \n",
            "95.27981662750244 Seconds passed \n"
          ],
          "name": "stdout"
        },
        {
          "output_type": "execute_result",
          "data": {
            "text/html": [
              "<div>\n",
              "<style scoped>\n",
              "    .dataframe tbody tr th:only-of-type {\n",
              "        vertical-align: middle;\n",
              "    }\n",
              "\n",
              "    .dataframe tbody tr th {\n",
              "        vertical-align: top;\n",
              "    }\n",
              "\n",
              "    .dataframe thead th {\n",
              "        text-align: right;\n",
              "    }\n",
              "</style>\n",
              "<table border=\"1\" class=\"dataframe\">\n",
              "  <thead>\n",
              "    <tr style=\"text-align: right;\">\n",
              "      <th></th>\n",
              "      <th>Randn 1000 10 p001 AUC Test</th>\n",
              "      <th>Randn 1000 10 p001 AUC Test std</th>\n",
              "      <th>Randn 1000 10 p001 AUC Train</th>\n",
              "      <th>Randn 1000 10 p001 AUC Train std</th>\n",
              "      <th>Randn 1000 10 p001 Time</th>\n",
              "      <th>Make Classification 10000 40 20 AUC Test</th>\n",
              "      <th>Make Classification 10000 40 20 AUC Test std</th>\n",
              "      <th>Make Classification 10000 40 20 AUC Train</th>\n",
              "      <th>Make Classification 10000 40 20 AUC Train std</th>\n",
              "      <th>Make Classification 10000 40 20 Time</th>\n",
              "    </tr>\n",
              "  </thead>\n",
              "  <tbody>\n",
              "    <tr>\n",
              "      <th>lgb_1000</th>\n",
              "      <td>0.702823</td>\n",
              "      <td>0.155296</td>\n",
              "      <td>1.0</td>\n",
              "      <td>0.0</td>\n",
              "      <td>0.014499</td>\n",
              "      <td>0.990781</td>\n",
              "      <td>0.001434</td>\n",
              "      <td>1.0</td>\n",
              "      <td>0.0</td>\n",
              "      <td>0.047995</td>\n",
              "    </tr>\n",
              "  </tbody>\n",
              "</table>\n",
              "</div>"
            ],
            "text/plain": [
              "          Randn 1000 10 p001 AUC Test  ...  Make Classification 10000 40 20 Time\n",
              "lgb_1000                     0.702823  ...                              0.047995\n",
              "\n",
              "[1 rows x 10 columns]"
            ]
          },
          "metadata": {
            "tags": []
          },
          "execution_count": 42
        }
      ]
    },
    {
      "cell_type": "code",
      "metadata": {
        "id": "pvgsuKMPj7ux",
        "colab_type": "code",
        "colab": {
          "base_uri": "https://localhost:8080/",
          "height": 1000
        },
        "outputId": "6e4a2897-2b54-4917-8b18-9b70d952e6f8"
      },
      "source": [
        "X,y \n"
      ],
      "execution_count": 14,
      "outputs": [
        {
          "output_type": "execute_result",
          "data": {
            "text/plain": [
              "(array([[ 1.16138583,  0.47466997, -0.30158789, ...,  0.02240581,\n",
              "          0.89247571, -0.19813418],\n",
              "        [-1.0631909 ,  0.1417697 ,  1.12540204, ...,  2.06776172,\n",
              "          0.27274267, -0.14811773],\n",
              "        [ 2.14781014, -1.11143017,  0.08341629, ...,  0.36842522,\n",
              "         -0.0679126 , -0.29693638],\n",
              "        ...,\n",
              "        [-0.31118917,  0.33440043,  0.38947091, ...,  1.51175227,\n",
              "         -0.67015941,  1.59362693],\n",
              "        [-0.73420322, -0.90228013,  0.05314848, ..., -0.71081685,\n",
              "         -0.9821167 , -0.17993841],\n",
              "        [ 2.16783149, -0.94022549,  0.34158301, ..., -0.79490623,\n",
              "          0.33495137, -0.63340859]]),\n",
              " array([0., 0., 0., 0., 0., 0., 0., 0., 0., 0., 0., 0., 0., 0., 0., 0., 0.,\n",
              "        0., 0., 0., 0., 0., 0., 0., 0., 0., 0., 0., 0., 0., 0., 0., 0., 0.,\n",
              "        0., 0., 0., 0., 0., 0., 0., 0., 0., 0., 0., 0., 0., 0., 0., 0., 0.,\n",
              "        0., 0., 1., 0., 0., 0., 0., 0., 0., 0., 0., 0., 0., 0., 0., 0., 0.,\n",
              "        0., 0., 0., 0., 0., 0., 0., 0., 0., 0., 0., 0., 0., 0., 0., 0., 0.,\n",
              "        0., 0., 0., 0., 0., 0., 0., 0., 0., 0., 0., 0., 0., 0., 0., 0., 0.,\n",
              "        0., 0., 0., 0., 1., 0., 0., 0., 0., 0., 0., 0., 0., 0., 0., 0., 0.,\n",
              "        0., 0., 0., 0., 0., 0., 0., 0., 0., 0., 0., 0., 0., 0., 0., 0., 0.,\n",
              "        0., 0., 0., 0., 0., 0., 0., 0., 1., 0., 0., 0., 0., 0., 0., 0., 0.,\n",
              "        0., 0., 0., 0., 0., 0., 0., 0., 0., 0., 0., 0., 0., 0., 0., 0., 0.,\n",
              "        0., 0., 0., 0., 0., 0., 0., 0., 0., 0., 0., 0., 0., 0., 0., 0., 0.,\n",
              "        0., 0., 0., 0., 0., 0., 0., 0., 0., 0., 0., 0., 0., 0., 0., 0., 0.,\n",
              "        0., 0., 0., 0., 0., 0., 0., 0., 0., 0., 0., 0., 0., 0., 0., 0., 0.,\n",
              "        0., 0., 0., 0., 0., 1., 0., 0., 0., 0., 0., 0., 0., 0., 0., 0., 0.,\n",
              "        0., 0., 0., 0., 0., 0., 0., 0., 0., 0., 0., 0., 0., 0., 0., 0., 0.,\n",
              "        0., 0., 0., 0., 0., 0., 0., 0., 0., 0., 0., 0., 0., 0., 0., 0., 0.,\n",
              "        0., 0., 0., 0., 0., 0., 0., 0., 0., 0., 0., 0., 0., 0., 0., 0., 0.,\n",
              "        0., 0., 0., 0., 0., 0., 0., 0., 0., 0., 0., 0., 0., 0., 0., 0., 0.,\n",
              "        0., 0., 0., 0., 0., 0., 0., 0., 0., 0., 0., 0., 0., 0., 0., 0., 0.,\n",
              "        0., 0., 0., 0., 0., 0., 0., 0., 0., 0., 0., 0., 0., 0., 0., 0., 0.,\n",
              "        0., 0., 0., 0., 0., 0., 0., 0., 0., 0., 0., 0., 0., 0., 0., 0., 0.,\n",
              "        0., 0., 0., 0., 0., 0., 0., 0., 0., 0., 0., 0., 0., 0., 0., 0., 0.,\n",
              "        0., 0., 0., 0., 0., 0., 0., 0., 0., 0., 0., 0., 0., 0., 0., 0., 0.,\n",
              "        0., 0., 0., 0., 0., 1., 0., 0., 0., 0., 0., 0., 0., 0., 0., 0., 0.,\n",
              "        0., 0., 0., 0., 0., 0., 0., 0., 0., 0., 0., 0., 0., 0., 0., 0., 0.,\n",
              "        0., 0., 0., 0., 0., 0., 0., 0., 0., 0., 0., 1., 0., 0., 0., 0., 0.,\n",
              "        0., 0., 0., 0., 0., 0., 0., 0., 0., 0., 0., 0., 0., 0., 0., 0., 0.,\n",
              "        0., 0., 0., 0., 0., 0., 0., 0., 0., 0., 0., 0., 0., 0., 0., 0., 0.,\n",
              "        0., 0., 0., 0., 0., 0., 0., 0., 0., 0., 0., 0., 0., 0., 0., 0., 0.,\n",
              "        0., 0., 0., 0., 0., 0., 0., 0., 0., 0., 0., 0., 0., 0., 0., 0., 0.,\n",
              "        0., 0., 0., 0., 0., 0., 0., 0., 0., 0., 0., 0., 0., 0., 0., 0., 0.,\n",
              "        0., 0., 0., 0., 0., 0., 0., 0., 0., 0., 0., 0., 0., 0., 0., 0., 0.,\n",
              "        0., 0., 0., 0., 0., 0., 0., 0., 0., 0., 0., 0., 0., 0., 0., 0., 0.,\n",
              "        0., 0., 0., 0., 0., 0., 0., 0., 0., 0., 0., 0., 0., 0., 0., 0., 0.,\n",
              "        0., 0., 0., 0., 0., 0., 0., 0., 0., 0., 0., 0., 0., 0., 0., 0., 0.,\n",
              "        0., 0., 0., 0., 0., 0., 0., 0., 0., 0., 0., 0., 0., 1., 0., 0., 0.,\n",
              "        0., 0., 0., 0., 0., 0., 0., 0., 0., 0., 0., 0., 0., 0., 0., 0., 0.,\n",
              "        0., 0., 0., 0., 0., 0., 0., 0., 0., 0., 0., 0., 0., 0., 0., 0., 0.,\n",
              "        0., 0., 0., 0., 0., 0., 0., 0., 0., 0., 0., 0., 0., 0., 0., 0., 0.,\n",
              "        0., 0., 0., 0., 0., 0., 0., 0., 0., 0., 0., 0., 0., 0., 0., 0., 0.,\n",
              "        0., 0., 0., 0., 0., 0., 0., 0., 0., 0., 0., 0., 0., 0., 0., 0., 0.,\n",
              "        0., 0., 0., 0., 0., 0., 0., 0., 0., 0., 0., 1., 0., 0., 0., 0., 0.,\n",
              "        0., 0., 0., 0., 0., 0., 0., 0., 0., 0., 0., 0., 0., 0., 0., 0., 0.,\n",
              "        0., 0., 0., 0., 0., 0., 0., 0., 0., 0., 0., 0., 0., 0., 0., 0., 0.,\n",
              "        0., 0., 0., 0., 0., 1., 0., 0., 0., 0., 0., 0., 0., 0., 0., 0., 0.,\n",
              "        0., 0., 0., 0., 0., 0., 0., 0., 0., 0., 0., 0., 0., 0., 0., 0., 0.,\n",
              "        0., 0., 0., 0., 0., 0., 0., 0., 0., 0., 0., 0., 0., 0., 0., 0., 0.,\n",
              "        0., 0., 0., 0., 0., 0., 0., 0., 0., 0., 0., 0., 0., 0., 0., 0., 0.,\n",
              "        0., 0., 0., 0., 0., 0., 0., 0., 0., 0., 0., 0., 0., 0., 0., 0., 0.,\n",
              "        0., 0., 0., 0., 0., 0., 0., 0., 0., 0., 0., 0., 0., 0., 0., 0., 0.,\n",
              "        0., 0., 0., 0., 0., 0., 0., 0., 0., 0., 0., 0., 0., 0., 0., 0., 0.,\n",
              "        0., 1., 0., 0., 0., 0., 0., 0., 0., 0., 0., 0., 0., 0., 0., 0., 0.,\n",
              "        0., 0., 0., 0., 0., 0., 0., 0., 0., 0., 0., 0., 0., 0., 0., 0., 0.,\n",
              "        0., 0., 0., 0., 0., 0., 0., 0., 0., 0., 0., 0., 0., 0., 0., 0., 0.,\n",
              "        0., 0., 0., 0., 0., 0., 0., 0., 0., 0., 0., 0., 0., 0., 0., 0., 0.,\n",
              "        0., 0., 0., 0., 0., 0., 1., 0., 0., 0., 0., 0., 0., 0., 0., 0., 0.,\n",
              "        0., 0., 0., 0., 0., 0., 0., 0., 0., 0., 0., 0., 0., 0., 0., 0., 0.,\n",
              "        0., 0., 0., 0., 0., 0., 0., 0., 0., 0., 0., 0., 0., 0., 0., 0., 0.,\n",
              "        0., 0., 0., 0., 0., 0., 0., 0., 0., 0., 0., 0., 0., 0.]))"
            ]
          },
          "metadata": {
            "tags": []
          },
          "execution_count": 14
        }
      ]
    },
    {
      "cell_type": "code",
      "metadata": {
        "id": "KgruG3XYkIkw",
        "colab_type": "code",
        "colab": {}
      },
      "source": [
        ""
      ],
      "execution_count": 0,
      "outputs": []
    }
  ]
}